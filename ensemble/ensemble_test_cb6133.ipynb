{
 "cells": [
  {
   "cell_type": "code",
   "execution_count": 144,
   "metadata": {
    "collapsed": true
   },
   "outputs": [],
   "source": [
    "import matplotlib.pyplot as plt\n",
    "%matplotlib inline\n",
    "import numpy as np"
   ]
  },
  {
   "cell_type": "code",
   "execution_count": 182,
   "metadata": {},
   "outputs": [
    {
     "name": "stdout",
     "output_type": "stream",
     "text": [
      "cb6133_ln2401_kat2193.prob.npy\t     cb6133test_stacker_prob.npy\r\n",
      "cb6133test_am4564_hk2903.prob.npy    cb6133test_yw3169_yh3050_newscore.npy\r\n",
      "cb6133test_ddl2133_ks3311_.prob.npy  cb6133test_yw3169_yh3050.npy\r\n",
      "cb6133test_ps2958_jw3468.prob.npy\r\n"
     ]
    }
   ],
   "source": [
    "!ls  ensemble/"
   ]
  },
  {
   "cell_type": "code",
   "execution_count": 147,
   "metadata": {
    "collapsed": true
   },
   "outputs": [],
   "source": [
    "yw = np.load('ensemble/cb6133test_yw3169_yh3050.npy') # uses warped list\n",
    "yw_new = np.load('ensemble/cb6133test_yw3169_yh3050_newscore.npy') # uses warped list\n",
    "\n",
    "ddl = np.load('ensemble/cb6133test_ddl2133_ks3311_.prob.npy') # uses original label indices\n",
    "\n",
    "hk = np.load('ensemble/cb6133test_am4564_hk2903.prob.npy') # uses warped list\n",
    "\n",
    "ln = np.load('ensemble/cb6133_ln2401_kat2193.prob.npy') # uses warped list\n",
    "\n",
    "ps = np.load('ensemble/cb6133test_ps2958_jw3468.prob.npy') # uses warped list\n",
    "\n",
    "stack = np.load('ensemble/cb6133test_stacker_prob.npy') # uses warped list"
   ]
  },
  {
   "cell_type": "code",
   "execution_count": 152,
   "metadata": {},
   "outputs": [
    {
     "name": "stdout",
     "output_type": "stream",
     "text": [
      "(272, 768, 9) (272, 768, 9) (272, 700, 9) (272, 800, 9) (272, 700, 9) (272, 700, 9) (272, 700, 9)\n"
     ]
    }
   ],
   "source": [
    "print (yw.shape,yw_new.shape, ddl.shape, hk.shape,ln.shape, ps.shape,stack.shape)"
   ]
  },
  {
   "cell_type": "code",
   "execution_count": 102,
   "metadata": {
    "collapsed": true
   },
   "outputs": [],
   "source": [
    "# warped_order_1 = ['NoSeq', 'H', 'E', 'L','T', 'S', 'G', 'B',  'I']\n",
    "#                    0        1    2    3   4    5    6    7     8\n",
    "#                  ['L',     'B', 'E', 'G','I', 'H', 'S', 'T', 'NoSeq'] # new order\n",
    "fix_warp_list = [8,5,2,0,7,6,3,1,4]"
   ]
  },
  {
   "cell_type": "code",
   "execution_count": 103,
   "metadata": {
    "collapsed": true
   },
   "outputs": [],
   "source": [
    "labels = ['L', 'B', 'E', 'G','I', 'H', 'S', 'T', 'NoSeq']"
   ]
  },
  {
   "cell_type": "code",
   "execution_count": 130,
   "metadata": {
    "collapsed": true
   },
   "outputs": [],
   "source": [
    "# fix order for hk\n",
    "ln_fixed = np.zeros_like(ddl)\n",
    "for count, i in enumerate(fix_warp_list):\n",
    "    ln_fixed[:,:,i] = ln[:,:700,count] "
   ]
  },
  {
   "cell_type": "code",
   "execution_count": null,
   "metadata": {
    "collapsed": true
   },
   "outputs": [],
   "source": [
    "# fix order for hk\n",
    "hk_fixed = np.zeros_like(ddl)\n",
    "for count, i in enumerate(fix_warp_list):\n",
    "    hk_fixed[:,:,i] = hk[:,:700,count] "
   ]
  },
  {
   "cell_type": "code",
   "execution_count": 153,
   "metadata": {
    "collapsed": true
   },
   "outputs": [],
   "source": [
    "# fix order for hk\n",
    "stack_fixed = np.zeros_like(ddl)\n",
    "for count, i in enumerate(fix_warp_list):\n",
    "    stack_fixed[:,:,i] = stack[:,:700,count] "
   ]
  },
  {
   "cell_type": "code",
   "execution_count": 123,
   "metadata": {
    "collapsed": true
   },
   "outputs": [],
   "source": [
    "# fix order for hk\n",
    "ps_fixed = np.zeros_like(ddl)\n",
    "for count, i in enumerate(fix_warp_list):\n",
    "    ps_fixed[:,:,i] = ps[:,:700,count] "
   ]
  },
  {
   "cell_type": "code",
   "execution_count": 107,
   "metadata": {
    "collapsed": true
   },
   "outputs": [],
   "source": [
    "# fix order for yw\n",
    "yw_fixed = np.zeros_like(ddl)\n",
    "for count, i in enumerate(fix_warp_list):\n",
    "    yw_fixed[:,:,i] = yw[:,:700,count] "
   ]
  },
  {
   "cell_type": "code",
   "execution_count": 108,
   "metadata": {
    "collapsed": true
   },
   "outputs": [],
   "source": [
    "yw_new_fixed = np.zeros_like(ddl)\n",
    "for count, i in enumerate(fix_warp_list):\n",
    "    yw_new_fixed[:,:,i] = yw_new[:,:700,count] "
   ]
  },
  {
   "cell_type": "code",
   "execution_count": 154,
   "metadata": {},
   "outputs": [
    {
     "name": "stdout",
     "output_type": "stream",
     "text": [
      "outputs are softmaxed\n",
      "outputs are softmaxed\n",
      "outputs are softmaxed\n",
      "outputs are softmaxed\n",
      "outputs are softmaxed\n",
      "outputs are softmaxed\n"
     ]
    }
   ],
   "source": [
    "def check_softmax(T):\n",
    "    for i in range(T.shape[0]):\n",
    "        for j in range(T.shape[1]):\n",
    "            try:\n",
    "                assert np.abs(np.sum(T[i,j,:])-1.0)<0.0001\n",
    "            except:\n",
    "                print (np.sum(T[i,j,:]), 'failed')\n",
    "                return \n",
    "    print ('outputs are softmaxed')\n",
    "    \n",
    "\n",
    "check_softmax(ddl)\n",
    "check_softmax(hk_fixed)\n",
    "check_softmax(yw_fixed)\n",
    "check_softmax(yw_new_fixed)\n",
    "check_softmax(ps_fixed)\n",
    "#check_softmax(ln_fixed)\n",
    "check_softmax(stack_fixed)"
   ]
  },
  {
   "cell_type": "code",
   "execution_count": 177,
   "metadata": {
    "collapsed": true
   },
   "outputs": [],
   "source": [
    "summed_probs = ddl+ yw_fixed + hk_fixed + yw_new_fixed + ps_fixed #stack#+ ln"
   ]
  },
  {
   "cell_type": "code",
   "execution_count": 178,
   "metadata": {},
   "outputs": [
    {
     "name": "stdout",
     "output_type": "stream",
     "text": [
      "max protein seq length is 632\n"
     ]
    }
   ],
   "source": [
    "length_list = [len(line.strip().split(',')[2]) for line in open('testing/cb6133test_solution.csv').readlines()]\n",
    "print ('max protein seq length is', np.max(length_list))"
   ]
  },
  {
   "cell_type": "code",
   "execution_count": 179,
   "metadata": {
    "collapsed": true
   },
   "outputs": [],
   "source": [
    "ensemble_predictions = []\n",
    "for protein_idx, i in enumerate(length_list):\n",
    "    new_pred = ''\n",
    "    for j in range(i):\n",
    "        new_pred += labels[np.argmax(summed_probs[protein_idx, j ,:])]\n",
    "    ensemble_predictions.append(new_pred)"
   ]
  },
  {
   "cell_type": "code",
   "execution_count": 180,
   "metadata": {
    "collapsed": true
   },
   "outputs": [],
   "source": [
    "with open('ensemble_predictions.csv','w') as f:\n",
    "    for idx, i in enumerate(ensemble_predictions):\n",
    "        f.write(str(idx)+','+i + '\\n')"
   ]
  },
  {
   "cell_type": "code",
   "execution_count": 183,
   "metadata": {},
   "outputs": [
    {
     "name": "stdout",
     "output_type": "stream",
     "text": [
      "mean accuracy is 0.76263035034\n"
     ]
    }
   ],
   "source": [
    "# calculating accuracy \n",
    "def get_acc(gt,pred):\n",
    "    assert len(gt)== len(pred)\n",
    "    correct = 0\n",
    "    for i in range(len(gt)):\n",
    "        if gt[i]==pred[i]:\n",
    "            correct+=1\n",
    "            \n",
    "    return (1.0*correct)/len(gt)\n",
    "\n",
    "gt_all = [line.strip().split(',')[3] for line in open('testing/cb6133test_solution.csv').readlines()]\n",
    "acc_list = []\n",
    "\n",
    "for gt,pred in zip(gt_all,ensemble_predictions):\n",
    "    acc = get_acc(gt,pred)\n",
    "    acc_list.append(acc)\n",
    "print ('mean accuracy is', np.mean(acc_list))"
   ]
  },
  {
   "cell_type": "code",
   "execution_count": 197,
   "metadata": {
    "collapsed": true
   },
   "outputs": [],
   "source": [
    "name2label = {j:i  for i,j in enumerate(labels[:-1])}\n",
    "label2name = {i:j  for i,j in enumerate(labels[:-1])}"
   ]
  },
  {
   "cell_type": "code",
   "execution_count": 198,
   "metadata": {},
   "outputs": [
    {
     "data": {
      "text/plain": [
       "{'B': 1, 'E': 2, 'G': 3, 'H': 5, 'I': 4, 'L': 0, 'S': 6, 'T': 7}"
      ]
     },
     "execution_count": 198,
     "metadata": {},
     "output_type": "execute_result"
    }
   ],
   "source": [
    "name2label"
   ]
  },
  {
   "cell_type": "code",
   "execution_count": 210,
   "metadata": {},
   "outputs": [
    {
     "data": {
      "text/plain": [
       "{0: 'L', 1: 'B', 2: 'E', 3: 'G', 4: 'I', 5: 'H', 6: 'S', 7: 'T'}"
      ]
     },
     "execution_count": 210,
     "metadata": {},
     "output_type": "execute_result"
    }
   ],
   "source": [
    "label2name"
   ]
  },
  {
   "cell_type": "code",
   "execution_count": 199,
   "metadata": {},
   "outputs": [],
   "source": [
    "classes = len(labels[:-1])\n",
    "conf_matrix = np.zeros((classes,classes))\n",
    "for gt,pred in zip(gt_all,ensemble_predictions):\n",
    "    for g,p in zip(gt,pred):\n",
    "        conf_matrix[name2label[p],name2label[g]]+=1.0"
   ]
  },
  {
   "cell_type": "code",
   "execution_count": 200,
   "metadata": {},
   "outputs": [],
   "source": [
    "recall_list = np.zeros((classes,))\n",
    "precision_list = np.zeros((classes,))\n",
    "for i in range(classes):\n",
    "    if np.sum(conf_matrix[:,i])!=0:\n",
    "        recall_list[i] = conf_matrix[i,i]/float(np.sum(conf_matrix[:,i]))\n",
    "    else:\n",
    "        recall_list[i] = 0 \n",
    "\n",
    "    if np.sum(conf_matrix[i,:])!=0:\n",
    "        precision_list[i] = conf_matrix[i,i]/float(np.sum(conf_matrix[i,:]))\n",
    "    else:\n",
    "        precision_list[i] = 0 \n",
    "\n",
    "fscore = np.zeros((classes,))\n",
    "\n",
    "for i in range(classes):\n",
    "    if precision_list[i] + recall_list[i]!=0:\n",
    "        fscore[i] = 2.0 *precision_list[i] * recall_list[i] / (precision_list[i] + recall_list[i])\n",
    "    else:\n",
    "        fscore[i] = 0"
   ]
  },
  {
   "cell_type": "code",
   "execution_count": 205,
   "metadata": {},
   "outputs": [
    {
     "name": "stdout",
     "output_type": "stream",
     "text": [
      "precision of class L 0.588216119306\n",
      "precision of class B 0.666666666667\n",
      "precision of class E 0.807053132558\n",
      "precision of class G 0.545191612437\n",
      "precision of class I 0.0\n",
      "precision of class H 0.866672721493\n",
      "precision of class S 0.567415730337\n",
      "precision of class T 0.588967691095\n",
      "average precision 0.578772959237\n"
     ]
    }
   ],
   "source": [
    "for i in range(classes):\n",
    "    print ('precision of class',label2name[i], precision_list[i])\n",
    "print ('average precision', np.mean(precision_list))"
   ]
  },
  {
   "cell_type": "code",
   "execution_count": 206,
   "metadata": {},
   "outputs": [
    {
     "name": "stdout",
     "output_type": "stream",
     "text": [
      "recall of class L 0.685600303951\n",
      "recall of class B 0.073482428115\n",
      "recall of class E 0.846550454211\n",
      "recall of class G 0.327541268462\n",
      "recall of class I 0.0\n",
      "recall of class H 0.943820780377\n",
      "recall of class S 0.224944320713\n",
      "recall of class T 0.593174603175\n",
      "average recall 0.461889269875\n"
     ]
    }
   ],
   "source": [
    "for i in range(classes):\n",
    "    print ('recall of class',label2name[i], recall_list[i])\n",
    "print ('average recall', np.mean(recall_list))"
   ]
  },
  {
   "cell_type": "code",
   "execution_count": 208,
   "metadata": {},
   "outputs": [
    {
     "name": "stdout",
     "output_type": "stream",
     "text": [
      "fscore of class L 0.633185666038\n",
      "fscore of class B 0.132374100719\n",
      "fscore of class E 0.826330084678\n",
      "fscore of class G 0.409226594301\n",
      "fscore of class I 0.0\n",
      "fscore of class H 0.903603049098\n",
      "fscore of class S 0.322169059011\n",
      "fscore of class T 0.591063661526\n",
      "average f-score 0.477244026922\n"
     ]
    }
   ],
   "source": [
    "for i in range(classes):\n",
    "    print ('fscore of class',label2name[i], fscore[i])\n",
    "print ('average f-score', np.mean(fscore))"
   ]
  },
  {
   "cell_type": "code",
   "execution_count": 215,
   "metadata": {},
   "outputs": [],
   "source": [
    "with open('metrics_cb6133.csv', 'w') as f:\n",
    "    f.write('secondary structure, precision, recall, f-score' + '\\n')\n",
    "    for i in range(classes):\n",
    "        f.write(str(label2name[i]) + ',' +str(precision_list[i]) + ',' + str(recall_list[i]) + ',' +  str(fscore[i]) + '\\n')\n",
    "        \n",
    "    f.write('mean,'+str(np.mean(precision_list)) +','+ str(np.mean(recall_list))+','+str(np.mean(fscore)) + '\\n'    )"
   ]
  },
  {
   "cell_type": "code",
   "execution_count": null,
   "metadata": {
    "collapsed": true
   },
   "outputs": [],
   "source": []
  }
 ],
 "metadata": {
  "kernelspec": {
   "display_name": "Python 3",
   "language": "python",
   "name": "python3"
  },
  "language_info": {
   "codemirror_mode": {
    "name": "ipython",
    "version": 3
   },
   "file_extension": ".py",
   "mimetype": "text/x-python",
   "name": "python",
   "nbconvert_exporter": "python",
   "pygments_lexer": "ipython3",
   "version": "3.6.3"
  }
 },
 "nbformat": 4,
 "nbformat_minor": 2
}
